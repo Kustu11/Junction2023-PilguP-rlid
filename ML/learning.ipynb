{
 "cells": [
  {
   "cell_type": "code",
   "execution_count": 77,
   "metadata": {},
   "outputs": [],
   "source": [
    "from sklearn.model_selection import train_test_split\n",
    "import numpy as np\n",
    "import pandas as pd\n",
    "import matplotlib.pyplot as plt\n",
    "\n",
    "import tensorflow as tf\n",
    "from tensorflow.keras import layers, models\n",
    "import matplotlib.pyplot as plt\n"
   ]
  },
  {
   "cell_type": "code",
   "execution_count": 150,
   "metadata": {},
   "outputs": [],
   "source": [
    "X = np.load('../data/ML/rolling_slices.npy')\n",
    "y = np.load('../data/ML/y_array.npy')\n",
    "\n",
    "X_train, X_test, y_train, y_test = train_test_split(X, y, test_size=0.2, random_state=42)\n",
    "# X_train, X_test = X_train/255, X_test/255"
   ]
  },
  {
   "cell_type": "code",
   "execution_count": 151,
   "metadata": {},
   "outputs": [
    {
     "data": {
      "text/plain": [
       "(959, 120, 15)"
      ]
     },
     "execution_count": 151,
     "metadata": {},
     "output_type": "execute_result"
    }
   ],
   "source": [
    "# X_train, y_train = X_train[:1000], y_train[:1000]\n",
    "X_train.shape"
   ]
  },
  {
   "cell_type": "code",
   "execution_count": 152,
   "metadata": {},
   "outputs": [
    {
     "data": {
      "text/plain": [
       "array([[-0.24279891, -0.08942591,  0.09075524, ..., -2.06258431,\n",
       "        -3.227629  ,  2.74699347],\n",
       "       [-0.26413888, -0.11068733, -0.02393511, ..., -1.99232395,\n",
       "        -3.25999611,  2.42311042],\n",
       "       [-0.28147761, -0.11635704,  0.01735342, ..., -1.7903232 ,\n",
       "        -3.5405096 ,  1.7090923 ],\n",
       "       ...,\n",
       "       [-0.3508325 , -0.08659106, -0.10345376, ..., -1.57953856,\n",
       "        -1.16692443,  2.75435247],\n",
       "       [-0.36216936, -0.09934791, -0.12027501, ..., -1.49171044,\n",
       "        -1.27481626,  2.76171447],\n",
       "       [-0.35216625, -0.09084334, -0.18908922, ..., -1.70249507,\n",
       "        -1.28560237,  2.82796348]])"
      ]
     },
     "execution_count": 152,
     "metadata": {},
     "output_type": "execute_result"
    }
   ],
   "source": [
    "X_train[0]"
   ]
  },
  {
   "cell_type": "code",
   "execution_count": 201,
   "metadata": {},
   "outputs": [],
   "source": [
    "resnet = tf.keras.applications.ResNet50(input_shape=(120, 120, 3),include_top=False)"
   ]
  },
  {
   "cell_type": "code",
   "execution_count": 195,
   "metadata": {},
   "outputs": [
    {
     "data": {
      "text/plain": [
       "(120, 15)"
      ]
     },
     "execution_count": 195,
     "metadata": {},
     "output_type": "execute_result"
    }
   ],
   "source": [
    "X_train[0].shape"
   ]
  },
  {
   "cell_type": "code",
   "execution_count": 204,
   "metadata": {},
   "outputs": [
    {
     "name": "stdout",
     "output_type": "stream",
     "text": [
      "(959, 120, 120, 3)\n"
     ]
    }
   ],
   "source": [
    "import numpy as np\n",
    "import tensorflow as tf\n",
    "\n",
    "# Example array of images\n",
    "images = np.copy(X_train)  # Replace num_images with your actual number of images\n",
    "\n",
    "\n",
    "# Add a channel dimension to make it (num_images, 120, 15, 1)\n",
    "images = images[:, :, :, np.newaxis]\n",
    "\n",
    "# Resize images to 32x32\n",
    "# We use 'bilinear' interpolation; you might choose a different method based on your needs\n",
    "resized_images = tf.image.resize(images, [120,120], method='bilinear').numpy()\n",
    "\n",
    "# Duplicate the channel to create 3-channel images\n",
    "three_channel_images = np.repeat(resized_images, 3, axis=3)\n",
    "\n",
    "# Check the final shape\n",
    "print(three_channel_images.shape)"
   ]
  },
  {
   "cell_type": "code",
   "execution_count": null,
   "metadata": {},
   "outputs": [],
   "source": [
    "resnet.compile(optimizer='adam',\n",
    "              loss=tf.keras.losses.CategoricalCrossentropy(from_logits=True),\n",
    "              metrics=['accuracy'])\n",
    "resnet.fit(three_channel_images, y_train)\n"
   ]
  },
  {
   "cell_type": "code",
   "execution_count": 153,
   "metadata": {},
   "outputs": [],
   "source": [
    "model = models.Sequential()\n",
    "model.add(layers.Conv2D(64, (3, 3), activation='relu', input_shape=(120, 15, 1)))\n",
    "model.add(layers.MaxPooling2D((2, 1)))\n",
    "model.add(layers.Conv2D(64, (3, 3), activation='relu'))\n",
    "model.add(layers.MaxPooling2D((2, 2)))\n",
    "model.add(layers.Conv2D(64, (3, 3), activation='relu'))\n",
    "model.add(layers.Conv2D(64, (3, 3), activation='relu'))\n",
    "\n",
    "model.add(layers.Flatten())\n",
    "model.add(layers.Dense(64, activation='relu'))\n",
    "model.add(layers.Dense(32, activation='relu'))\n",
    "model.add(layers.Dense(16, activation='relu'))\n",
    "\n",
    "model.add(layers.Dense(4))"
   ]
  },
  {
   "cell_type": "code",
   "execution_count": 154,
   "metadata": {},
   "outputs": [
    {
     "name": "stdout",
     "output_type": "stream",
     "text": [
      "Model: \"sequential_11\"\n",
      "_________________________________________________________________\n",
      " Layer (type)                Output Shape              Param #   \n",
      "=================================================================\n",
      " conv2d_38 (Conv2D)          (None, 118, 13, 64)       640       \n",
      "                                                                 \n",
      " max_pooling2d_20 (MaxPooli  (None, 59, 13, 64)        0         \n",
      " ng2D)                                                           \n",
      "                                                                 \n",
      " conv2d_39 (Conv2D)          (None, 57, 11, 64)        36928     \n",
      "                                                                 \n",
      " max_pooling2d_21 (MaxPooli  (None, 28, 5, 64)         0         \n",
      " ng2D)                                                           \n",
      "                                                                 \n",
      " conv2d_40 (Conv2D)          (None, 26, 3, 64)         36928     \n",
      "                                                                 \n",
      " conv2d_41 (Conv2D)          (None, 24, 1, 64)         36928     \n",
      "                                                                 \n",
      " flatten_10 (Flatten)        (None, 1536)              0         \n",
      "                                                                 \n",
      " dense_31 (Dense)            (None, 64)                98368     \n",
      "                                                                 \n",
      " dense_32 (Dense)            (None, 32)                2080      \n",
      "                                                                 \n",
      " dense_33 (Dense)            (None, 16)                528       \n",
      "                                                                 \n",
      " dense_34 (Dense)            (None, 4)                 68        \n",
      "                                                                 \n",
      "=================================================================\n",
      "Total params: 212468 (829.95 KB)\n",
      "Trainable params: 212468 (829.95 KB)\n",
      "Non-trainable params: 0 (0.00 Byte)\n",
      "_________________________________________________________________\n"
     ]
    }
   ],
   "source": [
    "model.summary()"
   ]
  },
  {
   "cell_type": "code",
   "execution_count": 155,
   "metadata": {},
   "outputs": [
    {
     "name": "stdout",
     "output_type": "stream",
     "text": [
      "Epoch 1/15\n"
     ]
    },
    {
     "name": "stdout",
     "output_type": "stream",
     "text": [
      "15/15 [==============================] - 1s 52ms/step - loss: 1.3655 - accuracy: 0.3180 - val_loss: 1.3405 - val_accuracy: 0.3800\n",
      "Epoch 2/15\n",
      "15/15 [==============================] - 1s 50ms/step - loss: 1.3429 - accuracy: 0.3452 - val_loss: 1.3373 - val_accuracy: 0.3400\n",
      "Epoch 3/15\n",
      "15/15 [==============================] - 1s 51ms/step - loss: 1.3179 - accuracy: 0.3389 - val_loss: 1.3024 - val_accuracy: 0.3600\n",
      "Epoch 4/15\n",
      "15/15 [==============================] - 1s 48ms/step - loss: 1.2643 - accuracy: 0.4181 - val_loss: 1.3999 - val_accuracy: 0.3300\n",
      "Epoch 5/15\n",
      "15/15 [==============================] - 1s 47ms/step - loss: 1.2006 - accuracy: 0.4494 - val_loss: 1.1776 - val_accuracy: 0.4400\n",
      "Epoch 6/15\n",
      "15/15 [==============================] - 1s 49ms/step - loss: 1.0581 - accuracy: 0.5266 - val_loss: 1.1608 - val_accuracy: 0.5500\n",
      "Epoch 7/15\n",
      "15/15 [==============================] - 1s 52ms/step - loss: 0.8690 - accuracy: 0.5902 - val_loss: 1.1422 - val_accuracy: 0.5900\n",
      "Epoch 8/15\n",
      "15/15 [==============================] - 1s 47ms/step - loss: 0.7638 - accuracy: 0.6694 - val_loss: 0.9552 - val_accuracy: 0.6300\n",
      "Epoch 9/15\n",
      "15/15 [==============================] - 1s 49ms/step - loss: 0.6076 - accuracy: 0.7383 - val_loss: 0.9374 - val_accuracy: 0.6400\n",
      "Epoch 10/15\n",
      "15/15 [==============================] - 1s 49ms/step - loss: 0.4969 - accuracy: 0.7998 - val_loss: 0.9359 - val_accuracy: 0.7100\n",
      "Epoch 11/15\n",
      "15/15 [==============================] - 1s 48ms/step - loss: 0.4343 - accuracy: 0.8238 - val_loss: 1.3082 - val_accuracy: 0.6400\n",
      "Epoch 12/15\n",
      "15/15 [==============================] - 1s 50ms/step - loss: 0.3986 - accuracy: 0.8373 - val_loss: 0.8913 - val_accuracy: 0.6700\n",
      "Epoch 13/15\n",
      "15/15 [==============================] - 1s 49ms/step - loss: 0.4253 - accuracy: 0.8311 - val_loss: 0.8507 - val_accuracy: 0.7800\n",
      "Epoch 14/15\n",
      "15/15 [==============================] - 1s 47ms/step - loss: 0.2891 - accuracy: 0.9009 - val_loss: 1.0632 - val_accuracy: 0.7900\n",
      "Epoch 15/15\n",
      "15/15 [==============================] - 1s 48ms/step - loss: 0.2233 - accuracy: 0.9103 - val_loss: 0.7663 - val_accuracy: 0.8600\n"
     ]
    }
   ],
   "source": [
    "model.compile(optimizer='adam',\n",
    "              loss=tf.keras.losses.CategoricalCrossentropy(from_logits=True),\n",
    "              metrics=['accuracy'])\n",
    "\n",
    "history = model.fit(X_train, y_train, epochs=15, batch_size=64,\n",
    "                    validation_data=(X_test[:100], y_test[:100]))"
   ]
  },
  {
   "cell_type": "code",
   "execution_count": 164,
   "metadata": {},
   "outputs": [
    {
     "data": {
      "text/plain": [
       "<matplotlib.legend.Legend at 0x2afaea1d0>"
      ]
     },
     "execution_count": 164,
     "metadata": {},
     "output_type": "execute_result"
    },
    {
     "data": {
      "image/png": "[encoded data removed]",
      "text/plain": [
       "<Figure size 640x480 with 1 Axes>"
      ]
     },
     "metadata": {},
     "output_type": "display_data"
    }
   ],
   "source": [
    "plt.plot(history.history['accuracy'], label='accuracy')\n",
    "plt.plot(history.history['val_accuracy'], label = 'val_accuracy')\n",
    "plt.xlabel('Epoch')\n",
    "plt.ylabel('Accuracy')\n",
    "plt.legend(loc='lower right')\n",
    "\n"
   ]
  },
  {
   "cell_type": "markdown",
   "metadata": {},
   "source": [
    "## Using test data to make sure"
   ]
  },
  {
   "cell_type": "code",
   "execution_count": 165,
   "metadata": {},
   "outputs": [],
   "source": [
    "from sklearn.preprocessing import MinMaxScaler, StandardScaler\n",
    "from sklearn.preprocessing import OneHotEncoder\n",
    "import pandas as pd\n",
    "import numpy as np\n",
    "import matplotlib.pyplot as plt\n",
    "import os\n",
    "import json"
   ]
  },
  {
   "cell_type": "code",
   "execution_count": 166,
   "metadata": {},
   "outputs": [
    {
     "data": {
      "text/html": [
       "<div>\n",
       "<style scoped>\n",
       "    .dataframe tbody tr th:only-of-type {\n",
       "        vertical-align: middle;\n",
       "    }\n",
       "\n",
       "    .dataframe tbody tr th {\n",
       "        vertical-align: top;\n",
       "    }\n",
       "\n",
       "    .dataframe thead th {\n",
       "        text-align: right;\n",
       "    }\n",
       "</style>\n",
       "<table border=\"1\" class=\"dataframe\">\n",
       "  <thead>\n",
       "    <tr style=\"text-align: right;\">\n",
       "      <th></th>\n",
       "      <th>l0</th>\n",
       "      <th>l1</th>\n",
       "      <th>l2</th>\n",
       "      <th>l3</th>\n",
       "      <th>l4</th>\n",
       "      <th>l5</th>\n",
       "      <th>r0</th>\n",
       "      <th>r1</th>\n",
       "      <th>r2</th>\n",
       "      <th>r3</th>\n",
       "      <th>r4</th>\n",
       "      <th>r5</th>\n",
       "      <th>x</th>\n",
       "      <th>y</th>\n",
       "      <th>z</th>\n",
       "      <th>time</th>\n",
       "    </tr>\n",
       "  </thead>\n",
       "  <tbody>\n",
       "    <tr>\n",
       "      <th>0</th>\n",
       "      <td>18616</td>\n",
       "      <td>7594</td>\n",
       "      <td>11583</td>\n",
       "      <td>13213</td>\n",
       "      <td>13838</td>\n",
       "      <td>15303</td>\n",
       "      <td>26438</td>\n",
       "      <td>7947</td>\n",
       "      <td>10521</td>\n",
       "      <td>15255</td>\n",
       "      <td>14661</td>\n",
       "      <td>10720</td>\n",
       "      <td>-0.333426</td>\n",
       "      <td>9.416835</td>\n",
       "      <td>2.883155</td>\n",
       "      <td>2023-11-11 18:56:21.131168</td>\n",
       "    </tr>\n",
       "    <tr>\n",
       "      <th>1</th>\n",
       "      <td>18688</td>\n",
       "      <td>7612</td>\n",
       "      <td>11621</td>\n",
       "      <td>13214</td>\n",
       "      <td>13867</td>\n",
       "      <td>15257</td>\n",
       "      <td>26315</td>\n",
       "      <td>7935</td>\n",
       "      <td>10499</td>\n",
       "      <td>15252</td>\n",
       "      <td>14656</td>\n",
       "      <td>10733</td>\n",
       "      <td>-0.421685</td>\n",
       "      <td>9.274639</td>\n",
       "      <td>2.824315</td>\n",
       "      <td>2023-11-11 18:56:21.164555</td>\n",
       "    </tr>\n",
       "    <tr>\n",
       "      <th>2</th>\n",
       "      <td>18799</td>\n",
       "      <td>7498</td>\n",
       "      <td>11482</td>\n",
       "      <td>13219</td>\n",
       "      <td>14046</td>\n",
       "      <td>15191</td>\n",
       "      <td>25870</td>\n",
       "      <td>7850</td>\n",
       "      <td>10416</td>\n",
       "      <td>15233</td>\n",
       "      <td>14695</td>\n",
       "      <td>10754</td>\n",
       "      <td>-0.424137</td>\n",
       "      <td>9.257477</td>\n",
       "      <td>2.625730</td>\n",
       "      <td>2023-11-11 18:56:21.298165</td>\n",
       "    </tr>\n",
       "    <tr>\n",
       "      <th>3</th>\n",
       "      <td>18633</td>\n",
       "      <td>7470</td>\n",
       "      <td>11403</td>\n",
       "      <td>13198</td>\n",
       "      <td>13885</td>\n",
       "      <td>15204</td>\n",
       "      <td>25651</td>\n",
       "      <td>7873</td>\n",
       "      <td>10408</td>\n",
       "      <td>15179</td>\n",
       "      <td>14851</td>\n",
       "      <td>10762</td>\n",
       "      <td>-0.468267</td>\n",
       "      <td>9.296704</td>\n",
       "      <td>2.733603</td>\n",
       "      <td>2023-11-11 18:56:21.364878</td>\n",
       "    </tr>\n",
       "    <tr>\n",
       "      <th>4</th>\n",
       "      <td>18599</td>\n",
       "      <td>7393</td>\n",
       "      <td>11336</td>\n",
       "      <td>13150</td>\n",
       "      <td>13809</td>\n",
       "      <td>15218</td>\n",
       "      <td>25948</td>\n",
       "      <td>7780</td>\n",
       "      <td>10321</td>\n",
       "      <td>15206</td>\n",
       "      <td>15101</td>\n",
       "      <td>10685</td>\n",
       "      <td>-0.333426</td>\n",
       "      <td>9.296704</td>\n",
       "      <td>2.684570</td>\n",
       "      <td>2023-11-11 18:56:21.498488</td>\n",
       "    </tr>\n",
       "  </tbody>\n",
       "</table>\n",
       "</div>"
      ],
      "text/plain": [
       "      l0    l1     l2     l3     l4     l5     r0    r1     r2     r3     r4  \\\n",
       "0  18616  7594  11583  13213  13838  15303  26438  7947  10521  15255  14661   \n",
       "1  18688  7612  11621  13214  13867  15257  26315  7935  10499  15252  14656   \n",
       "2  18799  7498  11482  13219  14046  15191  25870  7850  10416  15233  14695   \n",
       "3  18633  7470  11403  13198  13885  15204  25651  7873  10408  15179  14851   \n",
       "4  18599  7393  11336  13150  13809  15218  25948  7780  10321  15206  15101   \n",
       "\n",
       "      r5         x         y         z                       time  \n",
       "0  10720 -0.333426  9.416835  2.883155 2023-11-11 18:56:21.131168  \n",
       "1  10733 -0.421685  9.274639  2.824315 2023-11-11 18:56:21.164555  \n",
       "2  10754 -0.424137  9.257477  2.625730 2023-11-11 18:56:21.298165  \n",
       "3  10762 -0.468267  9.296704  2.733603 2023-11-11 18:56:21.364878  \n",
       "4  10685 -0.333426  9.296704  2.684570 2023-11-11 18:56:21.498488  "
      ]
     },
     "execution_count": 166,
     "metadata": {},
     "output_type": "execute_result"
    }
   ],
   "source": [
    "DATA_DIR = \"../data/Junction/indoor_test_doing_boing/\"\n",
    "\n",
    "data_afe = []\n",
    "for file in os.listdir(DATA_DIR):\n",
    "    if \"AFE\" in file:\n",
    "        with open(DATA_DIR + file, \"r\") as f:\n",
    "            data_afe += json.loads(f.readlines()[0])\n",
    "            \n",
    "data_imu = []\n",
    "for file in os.listdir(DATA_DIR):\n",
    "    if \"IMU\" in file:\n",
    "        with open(DATA_DIR + file, \"r\") as f:\n",
    "            data_imu += json.loads(f.readlines()[0])\n",
    "\n",
    "len(data_afe), len(data_imu)\n",
    "df_rows = [\"l0\", \"l1\", \"l2\", \"l3\", \"l4\", \"l5\", \"r0\", \"r1\", \"r2\", \"r3\", \"r4\", \"r5\", \"epoch\", \"tick\", \"x\", \"y\", \"z\"]\n",
    "left_temp = []\n",
    "right_temp = []\n",
    "epoch_temp = []\n",
    "tick_temp = []\n",
    "x_temp = []\n",
    "y_temp = []\n",
    "z_temp = []\n",
    "counter = 0\n",
    "for data_row in data_afe:\n",
    "    if data_row[\"afe\"][0][\"t\"] == \"L\":\n",
    "        #print(data_row[\"afe\"][0][\"m\"][0][:6])\n",
    "        left_temp.append(data_row[\"afe\"][0][\"m\"][0][:6])\n",
    "        right_temp.append(data_row[\"afe\"][1][\"m\"][0][:6])\n",
    "        # assert data_row[\"afe\"][0][\"i\"][1] \n",
    "        tick_temp.append(data_row[\"afe\"][0][\"i\"][0])\n",
    "        epoch_temp.append(data_row[\"afe\"][0][\"i\"][1])\n",
    "    else:\n",
    "        right_temp.append(data_row[\"afe\"][0][\"m\"][0][:6])\n",
    "        left_temp.append(data_row[\"afe\"][1][\"m\"][0][:6])\n",
    "        tick_temp.append(data_row[\"afe\"][0][\"i\"][0])\n",
    "        epoch_temp.append(data_row[\"afe\"][0][\"i\"][1])\n",
    "    try:\n",
    "        x_temp.append(data_imu[counter][\"v\"][0])\n",
    "        y_temp.append(data_imu[counter][\"v\"][1])\n",
    "        z_temp.append(data_imu[counter][\"v\"][2])\n",
    "    except:\n",
    "        pass\n",
    "    counter += 1\n",
    "\n",
    "combined = [(left + right + [epoch] + [tick] + [x] + [y] + [z]) for left, right, epoch, tick, x, y, z in zip(left_temp, right_temp, epoch_temp, tick_temp, x_temp, y_temp, z_temp)]\n",
    "\n",
    "df = pd.DataFrame(combined, columns=df_rows)\n",
    "df[\"time\"] = pd.to_datetime(df[\"epoch\"], unit=\"us\")\n",
    "\n",
    "# TODO OLULINE\n",
    "# eemaldame epochid et visualiseerimine oleks lihtsam\n",
    "df = df.drop(columns=[\"epoch\", \"tick\"])\n",
    "# scaler = MinMaxScaler()\n",
    "# numpy_scaled = scaler.fit_transform(df.drop(columns=[\"time\"], axis=1))\n",
    "# df_scaled = pd.DataFrame(numpy_scaled, columns=df.drop(columns=[\"time\"], axis=1).columns)\n",
    "# df_scaled[\"time\"] = df[\"time\"]\n",
    "df.head()"
   ]
  },
  {
   "cell_type": "code",
   "execution_count": 179,
   "metadata": {},
   "outputs": [
    {
     "data": {
      "text/html": [
       "<div>\n",
       "<style scoped>\n",
       "    .dataframe tbody tr th:only-of-type {\n",
       "        vertical-align: middle;\n",
       "    }\n",
       "\n",
       "    .dataframe tbody tr th {\n",
       "        vertical-align: top;\n",
       "    }\n",
       "\n",
       "    .dataframe thead th {\n",
       "        text-align: right;\n",
       "    }\n",
       "</style>\n",
       "<table border=\"1\" class=\"dataframe\">\n",
       "  <thead>\n",
       "    <tr style=\"text-align: right;\">\n",
       "      <th></th>\n",
       "      <th>l0</th>\n",
       "      <th>l1</th>\n",
       "      <th>l2</th>\n",
       "      <th>l3</th>\n",
       "      <th>l4</th>\n",
       "      <th>l5</th>\n",
       "      <th>r0</th>\n",
       "      <th>r1</th>\n",
       "      <th>r2</th>\n",
       "      <th>r3</th>\n",
       "      <th>r4</th>\n",
       "      <th>r5</th>\n",
       "      <th>x</th>\n",
       "      <th>y</th>\n",
       "      <th>z</th>\n",
       "      <th>time</th>\n",
       "    </tr>\n",
       "  </thead>\n",
       "  <tbody>\n",
       "    <tr>\n",
       "      <th>0</th>\n",
       "      <td>16788</td>\n",
       "      <td>5909</td>\n",
       "      <td>9506</td>\n",
       "      <td>15557</td>\n",
       "      <td>15928</td>\n",
       "      <td>17441</td>\n",
       "      <td>21413</td>\n",
       "      <td>6266</td>\n",
       "      <td>8505</td>\n",
       "      <td>14825</td>\n",
       "      <td>14087</td>\n",
       "      <td>8888</td>\n",
       "      <td>0.431492</td>\n",
       "      <td>8.289070</td>\n",
       "      <td>4.876356</td>\n",
       "      <td>210</td>\n",
       "    </tr>\n",
       "    <tr>\n",
       "      <th>1</th>\n",
       "      <td>16713</td>\n",
       "      <td>5963</td>\n",
       "      <td>9464</td>\n",
       "      <td>15607</td>\n",
       "      <td>15953</td>\n",
       "      <td>17444</td>\n",
       "      <td>21443</td>\n",
       "      <td>6280</td>\n",
       "      <td>8490</td>\n",
       "      <td>14931</td>\n",
       "      <td>14141</td>\n",
       "      <td>8894</td>\n",
       "      <td>0.456009</td>\n",
       "      <td>8.085582</td>\n",
       "      <td>4.636093</td>\n",
       "      <td>211</td>\n",
       "    </tr>\n",
       "    <tr>\n",
       "      <th>2</th>\n",
       "      <td>16663</td>\n",
       "      <td>5965</td>\n",
       "      <td>9517</td>\n",
       "      <td>15609</td>\n",
       "      <td>15919</td>\n",
       "      <td>17462</td>\n",
       "      <td>21465</td>\n",
       "      <td>6250</td>\n",
       "      <td>8500</td>\n",
       "      <td>14988</td>\n",
       "      <td>14197</td>\n",
       "      <td>8899</td>\n",
       "      <td>0.380007</td>\n",
       "      <td>8.382234</td>\n",
       "      <td>4.810161</td>\n",
       "      <td>212</td>\n",
       "    </tr>\n",
       "    <tr>\n",
       "      <th>3</th>\n",
       "      <td>16409</td>\n",
       "      <td>6005</td>\n",
       "      <td>9520</td>\n",
       "      <td>15672</td>\n",
       "      <td>15948</td>\n",
       "      <td>17458</td>\n",
       "      <td>21548</td>\n",
       "      <td>6266</td>\n",
       "      <td>8472</td>\n",
       "      <td>14987</td>\n",
       "      <td>14122</td>\n",
       "      <td>8900</td>\n",
       "      <td>0.593302</td>\n",
       "      <td>8.485203</td>\n",
       "      <td>4.854291</td>\n",
       "      <td>213</td>\n",
       "    </tr>\n",
       "    <tr>\n",
       "      <th>4</th>\n",
       "      <td>16367</td>\n",
       "      <td>6008</td>\n",
       "      <td>9461</td>\n",
       "      <td>15692</td>\n",
       "      <td>15995</td>\n",
       "      <td>17458</td>\n",
       "      <td>21546</td>\n",
       "      <td>6235</td>\n",
       "      <td>8472</td>\n",
       "      <td>14965</td>\n",
       "      <td>14118</td>\n",
       "      <td>8894</td>\n",
       "      <td>0.603108</td>\n",
       "      <td>8.217972</td>\n",
       "      <td>4.734160</td>\n",
       "      <td>214</td>\n",
       "    </tr>\n",
       "  </tbody>\n",
       "</table>\n",
       "</div>"
      ],
      "text/plain": [
       "      l0    l1    l2     l3     l4     l5     r0    r1    r2     r3     r4  \\\n",
       "0  16788  5909  9506  15557  15928  17441  21413  6266  8505  14825  14087   \n",
       "1  16713  5963  9464  15607  15953  17444  21443  6280  8490  14931  14141   \n",
       "2  16663  5965  9517  15609  15919  17462  21465  6250  8500  14988  14197   \n",
       "3  16409  6005  9520  15672  15948  17458  21548  6266  8472  14987  14122   \n",
       "4  16367  6008  9461  15692  15995  17458  21546  6235  8472  14965  14118   \n",
       "\n",
       "     r5         x         y         z  time  \n",
       "0  8888  0.431492  8.289070  4.876356   210  \n",
       "1  8894  0.456009  8.085582  4.636093   211  \n",
       "2  8899  0.380007  8.382234  4.810161   212  \n",
       "3  8900  0.593302  8.485203  4.854291   213  \n",
       "4  8894  0.603108  8.217972  4.734160   214  "
      ]
     },
     "execution_count": 179,
     "metadata": {},
     "output_type": "execute_result"
    }
   ],
   "source": [
    "df = pd.read_csv(\"../data/Junction/indoor_test_doing_boing/compact.csv\")\n",
    "df.head()"
   ]
  },
  {
   "cell_type": "code",
   "execution_count": 180,
   "metadata": {},
   "outputs": [
    {
     "data": {
      "text/html": [
       "<div>\n",
       "<style scoped>\n",
       "    .dataframe tbody tr th:only-of-type {\n",
       "        vertical-align: middle;\n",
       "    }\n",
       "\n",
       "    .dataframe tbody tr th {\n",
       "        vertical-align: top;\n",
       "    }\n",
       "\n",
       "    .dataframe thead th {\n",
       "        text-align: right;\n",
       "    }\n",
       "</style>\n",
       "<table border=\"1\" class=\"dataframe\">\n",
       "  <thead>\n",
       "    <tr style=\"text-align: right;\">\n",
       "      <th></th>\n",
       "      <th>l0</th>\n",
       "      <th>l1</th>\n",
       "      <th>l2</th>\n",
       "      <th>l3</th>\n",
       "      <th>l4</th>\n",
       "      <th>l5</th>\n",
       "      <th>r0</th>\n",
       "      <th>r1</th>\n",
       "      <th>r2</th>\n",
       "      <th>r3</th>\n",
       "      <th>r4</th>\n",
       "      <th>r5</th>\n",
       "      <th>x</th>\n",
       "      <th>y</th>\n",
       "      <th>z</th>\n",
       "      <th>time</th>\n",
       "    </tr>\n",
       "  </thead>\n",
       "  <tbody>\n",
       "    <tr>\n",
       "      <th>0</th>\n",
       "      <td>-0.181575</td>\n",
       "      <td>-0.344080</td>\n",
       "      <td>-0.401105</td>\n",
       "      <td>0.123262</td>\n",
       "      <td>-0.332938</td>\n",
       "      <td>-0.060224</td>\n",
       "      <td>-0.475206</td>\n",
       "      <td>-0.176230</td>\n",
       "      <td>-0.265228</td>\n",
       "      <td>-0.810951</td>\n",
       "      <td>-0.705638</td>\n",
       "      <td>-0.901572</td>\n",
       "      <td>-0.526792</td>\n",
       "      <td>0.126435</td>\n",
       "      <td>0.118827</td>\n",
       "      <td>210</td>\n",
       "    </tr>\n",
       "    <tr>\n",
       "      <th>1</th>\n",
       "      <td>-0.213522</td>\n",
       "      <td>-0.306204</td>\n",
       "      <td>-0.427890</td>\n",
       "      <td>0.177675</td>\n",
       "      <td>-0.312806</td>\n",
       "      <td>-0.056866</td>\n",
       "      <td>-0.461845</td>\n",
       "      <td>-0.165853</td>\n",
       "      <td>-0.274659</td>\n",
       "      <td>-0.721143</td>\n",
       "      <td>-0.656615</td>\n",
       "      <td>-0.895156</td>\n",
       "      <td>-0.476306</td>\n",
       "      <td>-0.105639</td>\n",
       "      <td>-0.042548</td>\n",
       "      <td>211</td>\n",
       "    </tr>\n",
       "    <tr>\n",
       "      <th>2</th>\n",
       "      <td>-0.234821</td>\n",
       "      <td>-0.304801</td>\n",
       "      <td>-0.394090</td>\n",
       "      <td>0.179852</td>\n",
       "      <td>-0.340185</td>\n",
       "      <td>-0.036716</td>\n",
       "      <td>-0.452047</td>\n",
       "      <td>-0.188089</td>\n",
       "      <td>-0.268372</td>\n",
       "      <td>-0.672850</td>\n",
       "      <td>-0.605775</td>\n",
       "      <td>-0.889809</td>\n",
       "      <td>-0.632813</td>\n",
       "      <td>0.232687</td>\n",
       "      <td>0.074367</td>\n",
       "      <td>212</td>\n",
       "    </tr>\n",
       "    <tr>\n",
       "      <th>3</th>\n",
       "      <td>-0.343017</td>\n",
       "      <td>-0.276745</td>\n",
       "      <td>-0.392177</td>\n",
       "      <td>0.248412</td>\n",
       "      <td>-0.316832</td>\n",
       "      <td>-0.041194</td>\n",
       "      <td>-0.415082</td>\n",
       "      <td>-0.176230</td>\n",
       "      <td>-0.285977</td>\n",
       "      <td>-0.673698</td>\n",
       "      <td>-0.673864</td>\n",
       "      <td>-0.888739</td>\n",
       "      <td>-0.193584</td>\n",
       "      <td>0.350122</td>\n",
       "      <td>0.104007</td>\n",
       "      <td>213</td>\n",
       "    </tr>\n",
       "    <tr>\n",
       "      <th>4</th>\n",
       "      <td>-0.360907</td>\n",
       "      <td>-0.274641</td>\n",
       "      <td>-0.429804</td>\n",
       "      <td>0.270177</td>\n",
       "      <td>-0.278984</td>\n",
       "      <td>-0.041194</td>\n",
       "      <td>-0.415973</td>\n",
       "      <td>-0.199207</td>\n",
       "      <td>-0.285977</td>\n",
       "      <td>-0.692337</td>\n",
       "      <td>-0.677495</td>\n",
       "      <td>-0.895156</td>\n",
       "      <td>-0.173391</td>\n",
       "      <td>0.045349</td>\n",
       "      <td>0.023320</td>\n",
       "      <td>214</td>\n",
       "    </tr>\n",
       "  </tbody>\n",
       "</table>\n",
       "</div>"
      ],
      "text/plain": [
       "         l0        l1        l2        l3        l4        l5        r0  \\\n",
       "0 -0.181575 -0.344080 -0.401105  0.123262 -0.332938 -0.060224 -0.475206   \n",
       "1 -0.213522 -0.306204 -0.427890  0.177675 -0.312806 -0.056866 -0.461845   \n",
       "2 -0.234821 -0.304801 -0.394090  0.179852 -0.340185 -0.036716 -0.452047   \n",
       "3 -0.343017 -0.276745 -0.392177  0.248412 -0.316832 -0.041194 -0.415082   \n",
       "4 -0.360907 -0.274641 -0.429804  0.270177 -0.278984 -0.041194 -0.415973   \n",
       "\n",
       "         r1        r2        r3        r4        r5         x         y  \\\n",
       "0 -0.176230 -0.265228 -0.810951 -0.705638 -0.901572 -0.526792  0.126435   \n",
       "1 -0.165853 -0.274659 -0.721143 -0.656615 -0.895156 -0.476306 -0.105639   \n",
       "2 -0.188089 -0.268372 -0.672850 -0.605775 -0.889809 -0.632813  0.232687   \n",
       "3 -0.176230 -0.285977 -0.673698 -0.673864 -0.888739 -0.193584  0.350122   \n",
       "4 -0.199207 -0.285977 -0.692337 -0.677495 -0.895156 -0.173391  0.045349   \n",
       "\n",
       "          z  time  \n",
       "0  0.118827   210  \n",
       "1 -0.042548   211  \n",
       "2  0.074367   212  \n",
       "3  0.104007   213  \n",
       "4  0.023320   214  "
      ]
     },
     "execution_count": 180,
     "metadata": {},
     "output_type": "execute_result"
    }
   ],
   "source": [
    "scaler = StandardScaler()\n",
    "df_scaled = pd.DataFrame(scaler.fit_transform(df[['l0', 'l1', 'l2', 'l3', 'l4', 'l5', 'r0', 'r1', 'r2', 'r3', 'r4', 'r5', 'x', 'y', 'z']]),\n",
    "                             columns=['l0', 'l1', 'l2', 'l3', 'l4', 'l5', 'r0', 'r1', 'r2', 'r3', 'r4', 'r5', 'x', 'y', 'z'])\n",
    "df_scaled[\"time\"] = df[\"time\"]\n",
    "\n",
    "# ohe = OneHotEncoder()\n",
    "# ohe.fit(df[[\"label\"]])\n",
    "\n",
    "# df_scaled[[cat for cat in ohe.categories_[0]]] = ohe.transform(df[[\"label\"]]).toarray()\n",
    "\n",
    "# for col in df_scaled.columns:\n",
    "#     if col not in [\"time\", \"label\"]:\n",
    "#         df_scaled[col] = pd.to_numeric(df_scaled[col]).astype(np.uint8)\n",
    "\n",
    "df_scaled.head()"
   ]
  },
  {
   "cell_type": "code",
   "execution_count": 181,
   "metadata": {},
   "outputs": [],
   "source": [
    "def scale_small_df(df, scaler):\n",
    "    df_scaled = pd.DataFrame(scaler.fit_transform(df[['l0', 'l1', 'l2', 'l3', 'l4', 'l5', 'r0', 'r1', 'r2', 'r3', 'r4', 'r5', 'x', 'y', 'z']]),\n",
    "                                columns=['l0', 'l1', 'l2', 'l3', 'l4', 'l5', 'r0', 'r1', 'r2', 'r3', 'r4', 'r5', 'x', 'y', 'z'])\n",
    "\n",
    "    df_scaled[\"time\"] = df[\"time\"].values\n",
    "\n",
    "    # for col in df_scaled.columns:\n",
    "    #     if col not in [\"time\", \"label\"]:\n",
    "    #         df_scaled[col] = pd.to_numeric(df_scaled[col]).astype(np.uint8)\n",
    "\n",
    "    return df_scaled\n",
    "\n",
    "def scaled2image(df):\n",
    "    data_array = df[['l0', 'l1', 'l2', 'l3', 'l4', 'l5', 'r0', 'r1', 'r2', 'r3', 'r4', 'r5', 'x', 'y', 'z']].to_numpy()\n",
    "    # Create the rolling slices\n",
    "    window_size = 60*2# Size of each slice\n",
    "    rolling_slices = np.array([data_array[i:i+window_size] for i in range(0, len(data_array) - window_size + 1) ])\n",
    "    return rolling_slices\n"
   ]
  },
  {
   "cell_type": "code",
   "execution_count": 182,
   "metadata": {},
   "outputs": [],
   "source": [
    "all_rolling_slices = []\n",
    "\n",
    "for df in [df_scaled]:\n",
    "    df = scale_small_df(df, scaler)\n",
    "    rolling_slices = scaled2image(df)\n",
    "    all_rolling_slices.extend(rolling_slices)\n",
    "\n",
    "all_rolling_slices = np.array(all_rolling_slices) #/ 255"
   ]
  },
  {
   "cell_type": "code",
   "execution_count": 183,
   "metadata": {},
   "outputs": [
    {
     "data": {
      "text/plain": [
       "array([[0., 1., 0., 0.]])"
      ]
     },
     "execution_count": 183,
     "metadata": {},
     "output_type": "execute_result"
    }
   ],
   "source": [
    "y_test[0:1]"
   ]
  },
  {
   "cell_type": "code",
   "execution_count": 184,
   "metadata": {},
   "outputs": [
    {
     "name": "stdout",
     "output_type": "stream",
     "text": [
      "169/169 [==============================] - 1s 8ms/step\n"
     ]
    }
   ],
   "source": [
    "res = model.predict([all_rolling_slices])"
   ]
  },
  {
   "cell_type": "code",
   "execution_count": 185,
   "metadata": {},
   "outputs": [
    {
     "data": {
      "text/plain": [
       "1    3074\n",
       "2    1945\n",
       "0     223\n",
       "3     165\n",
       "Name: count, dtype: int64"
      ]
     },
     "execution_count": 185,
     "metadata": {},
     "output_type": "execute_result"
    }
   ],
   "source": [
    "resmax = np.argmax(res, axis=1)\n",
    "pd.DataFrame(resmax).value_counts()"
   ]
  },
  {
   "cell_type": "code",
   "execution_count": 186,
   "metadata": {},
   "outputs": [
    {
     "data": {
      "text/plain": [
       "[<matplotlib.lines.Line2D at 0x2b1a333d0>]"
      ]
     },
     "execution_count": 186,
     "metadata": {},
     "output_type": "execute_result"
    },
    {
     "data": {
      "image/png": "[encoded data removed]",
      "text/plain": [
       "<Figure size 640x480 with 1 Axes>"
      ]
     },
     "metadata": {},
     "output_type": "display_data"
    }
   ],
   "source": [
    "plt.plot(resmax)"
   ]
  },
  {
   "cell_type": "code",
   "execution_count": 187,
   "metadata": {},
   "outputs": [
    {
     "data": {
      "text/plain": [
       "0    1    2    3  \n",
       "0.0  0.0  0.0  1.0    322\n",
       "          1.0  0.0    306\n",
       "     1.0  0.0  0.0    184\n",
       "1.0  0.0  0.0  0.0    147\n",
       "Name: count, dtype: int64"
      ]
     },
     "execution_count": 187,
     "metadata": {},
     "output_type": "execute_result"
    }
   ],
   "source": [
    "pd.DataFrame(y_train).value_counts()"
   ]
  }
 ],
 "metadata": {
  "kernelspec": {
   "display_name": "junctionenv",
   "language": "python",
   "name": "python3"
  },
  "language_info": {
   "codemirror_mode": {
    "name": "ipython",
    "version": 3
   },
   "file_extension": ".py",
   "mimetype": "text/x-python",
   "name": "python",
   "nbconvert_exporter": "python",
   "pygments_lexer": "ipython3",
   "version": "3.11.5"
  }
 },
 "nbformat": 4,
 "nbformat_minor": 2
}
