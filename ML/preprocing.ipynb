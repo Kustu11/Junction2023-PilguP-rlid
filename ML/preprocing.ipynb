{
 "cells": [
  {
   "cell_type": "code",
   "execution_count": 33,
   "metadata": {},
   "outputs": [],
   "source": [
    "from sklearn.preprocessing import MinMaxScaler, StandardScaler\n",
    "from sklearn.preprocessing import OneHotEncoder\n",
    "import pandas as pd\n",
    "import numpy as np\n",
    "import matplotlib.pyplot as plt\n"
   ]
  },
  {
   "cell_type": "code",
   "execution_count": 34,
   "metadata": {},
   "outputs": [],
   "source": [
    "df_lugemine_1 = pd.read_csv(\"../data/action_wise_data/reading_1.csv\", index_col=0)\n",
    "df_suhtlus_1 = pd.read_csv(\"../data/action_wise_data/communication_1.csv\", index_col=0)\n",
    "df_scroll_1 = pd.read_csv(\"../data/action_wise_data/scrolling_1.csv\", index_col=0)\n",
    "df_arvuti_1 = pd.read_csv(\"../data/action_wise_data/computer_1.csv\", index_col=0)\n",
    "\n",
    "df_lugemine_2 = pd.read_csv(\"../data/action_wise_data/reading_2.csv\", index_col=0)\n",
    "df_suhtlus_2 = pd.read_csv(\"../data/action_wise_data/communication_2.csv\", index_col=0)\n",
    "df_scroll_2 = pd.read_csv(\"../data/action_wise_data/scrolling_2.csv\", index_col=0)\n",
    "df_arvuti_2 = pd.read_csv(\"../data/action_wise_data/computer_2.csv\", index_col=0)\n",
    "\n",
    "df_lugemine_3 = pd.read_csv(\"../data/action_wise_data/reading_3.csv\", index_col=0)\n",
    "df_suhtlus_3 = pd.read_csv(\"../data/action_wise_data/communication_3.csv\", index_col=0)\n",
    "df_scroll_3 = pd.read_csv(\"../data/action_wise_data/scrolling_3.csv\", index_col=0)\n",
    "df_arvuti_3 = pd.read_csv(\"../data/action_wise_data/computer_3.csv\", index_col=0)"
   ]
  },
  {
   "cell_type": "code",
   "execution_count": 35,
   "metadata": {},
   "outputs": [],
   "source": [
    "df_big = pd.concat([df_lugemine_1, df_suhtlus_1, df_scroll_1, df_arvuti_1, df_lugemine_2, df_suhtlus_2, df_scroll_2, df_arvuti_2, df_lugemine_3, df_suhtlus_3, df_scroll_3, df_arvuti_3], ignore_index=True)"
   ]
  },
  {
   "cell_type": "code",
   "execution_count": 36,
   "metadata": {},
   "outputs": [
    {
     "data": {
      "text/plain": [
       "Index(['l0', 'l1', 'l2', 'l3', 'l4', 'l5', 'r0', 'r1', 'r2', 'r3', 'r4', 'r5',\n",
       "       'epoch', 'tick', 'x', 'y', 'z', 'time', 'label'],\n",
       "      dtype='object')"
      ]
     },
     "execution_count": 36,
     "metadata": {},
     "output_type": "execute_result"
    }
   ],
   "source": [
    "df_big.columns"
   ]
  },
  {
   "cell_type": "code",
   "execution_count": 37,
   "metadata": {},
   "outputs": [
    {
     "data": {
      "text/html": [
       "<div>\n",
       "<style scoped>\n",
       "    .dataframe tbody tr th:only-of-type {\n",
       "        vertical-align: middle;\n",
       "    }\n",
       "\n",
       "    .dataframe tbody tr th {\n",
       "        vertical-align: top;\n",
       "    }\n",
       "\n",
       "    .dataframe thead th {\n",
       "        text-align: right;\n",
       "    }\n",
       "</style>\n",
       "<table border=\"1\" class=\"dataframe\">\n",
       "  <thead>\n",
       "    <tr style=\"text-align: right;\">\n",
       "      <th></th>\n",
       "      <th>l0</th>\n",
       "      <th>l1</th>\n",
       "      <th>l2</th>\n",
       "      <th>l3</th>\n",
       "      <th>l4</th>\n",
       "      <th>l5</th>\n",
       "      <th>r0</th>\n",
       "      <th>r1</th>\n",
       "      <th>r2</th>\n",
       "      <th>r3</th>\n",
       "      <th>r4</th>\n",
       "      <th>r5</th>\n",
       "      <th>x</th>\n",
       "      <th>y</th>\n",
       "      <th>z</th>\n",
       "      <th>time</th>\n",
       "      <th>communication</th>\n",
       "      <th>computer</th>\n",
       "      <th>reading</th>\n",
       "      <th>scrolling</th>\n",
       "    </tr>\n",
       "  </thead>\n",
       "  <tbody>\n",
       "    <tr>\n",
       "      <th>0</th>\n",
       "      <td>0.535408</td>\n",
       "      <td>0.037584</td>\n",
       "      <td>0.119232</td>\n",
       "      <td>0.932200</td>\n",
       "      <td>1.067751</td>\n",
       "      <td>0.058123</td>\n",
       "      <td>-0.653354</td>\n",
       "      <td>-0.882907</td>\n",
       "      <td>-1.076118</td>\n",
       "      <td>0.961621</td>\n",
       "      <td>0.884534</td>\n",
       "      <td>-0.144164</td>\n",
       "      <td>1.917147</td>\n",
       "      <td>0.877331</td>\n",
       "      <td>-1.581244</td>\n",
       "      <td>2023-11-03 08:55:23.681236</td>\n",
       "      <td>0.0</td>\n",
       "      <td>0.0</td>\n",
       "      <td>1.0</td>\n",
       "      <td>0.0</td>\n",
       "    </tr>\n",
       "    <tr>\n",
       "      <th>1</th>\n",
       "      <td>0.548286</td>\n",
       "      <td>0.060216</td>\n",
       "      <td>0.156784</td>\n",
       "      <td>0.945445</td>\n",
       "      <td>1.073017</td>\n",
       "      <td>0.066887</td>\n",
       "      <td>-0.631147</td>\n",
       "      <td>-0.836631</td>\n",
       "      <td>-1.058522</td>\n",
       "      <td>0.964983</td>\n",
       "      <td>0.868899</td>\n",
       "      <td>-0.126897</td>\n",
       "      <td>1.724858</td>\n",
       "      <td>0.858034</td>\n",
       "      <td>-1.541047</td>\n",
       "      <td>2023-11-03 08:55:23.697962</td>\n",
       "      <td>0.0</td>\n",
       "      <td>0.0</td>\n",
       "      <td>1.0</td>\n",
       "      <td>0.0</td>\n",
       "    </tr>\n",
       "    <tr>\n",
       "      <th>2</th>\n",
       "      <td>0.554725</td>\n",
       "      <td>0.045731</td>\n",
       "      <td>0.164903</td>\n",
       "      <td>0.947101</td>\n",
       "      <td>1.095585</td>\n",
       "      <td>0.068530</td>\n",
       "      <td>-0.614635</td>\n",
       "      <td>-0.850514</td>\n",
       "      <td>-1.049724</td>\n",
       "      <td>0.986275</td>\n",
       "      <td>0.862645</td>\n",
       "      <td>-0.130495</td>\n",
       "      <td>2.209950</td>\n",
       "      <td>0.512458</td>\n",
       "      <td>-1.592298</td>\n",
       "      <td>2023-11-03 08:55:23.714657</td>\n",
       "      <td>0.0</td>\n",
       "      <td>0.0</td>\n",
       "      <td>1.0</td>\n",
       "      <td>0.0</td>\n",
       "    </tr>\n",
       "    <tr>\n",
       "      <th>3</th>\n",
       "      <td>0.560406</td>\n",
       "      <td>0.078322</td>\n",
       "      <td>0.168963</td>\n",
       "      <td>0.952896</td>\n",
       "      <td>1.100851</td>\n",
       "      <td>0.077842</td>\n",
       "      <td>-0.608941</td>\n",
       "      <td>-0.864397</td>\n",
       "      <td>-1.023331</td>\n",
       "      <td>0.980672</td>\n",
       "      <td>0.869792</td>\n",
       "      <td>-0.115387</td>\n",
       "      <td>2.100695</td>\n",
       "      <td>1.045733</td>\n",
       "      <td>-1.544062</td>\n",
       "      <td>2023-11-03 08:55:23.731351</td>\n",
       "      <td>0.0</td>\n",
       "      <td>0.0</td>\n",
       "      <td>1.0</td>\n",
       "      <td>0.0</td>\n",
       "    </tr>\n",
       "    <tr>\n",
       "      <th>4</th>\n",
       "      <td>0.567602</td>\n",
       "      <td>0.071985</td>\n",
       "      <td>0.168963</td>\n",
       "      <td>0.957449</td>\n",
       "      <td>1.088438</td>\n",
       "      <td>0.083867</td>\n",
       "      <td>-0.595275</td>\n",
       "      <td>-0.864397</td>\n",
       "      <td>-1.033595</td>\n",
       "      <td>0.993746</td>\n",
       "      <td>0.847456</td>\n",
       "      <td>-0.112509</td>\n",
       "      <td>1.956479</td>\n",
       "      <td>0.573854</td>\n",
       "      <td>-1.680731</td>\n",
       "      <td>2023-11-03 08:55:23.748016</td>\n",
       "      <td>0.0</td>\n",
       "      <td>0.0</td>\n",
       "      <td>1.0</td>\n",
       "      <td>0.0</td>\n",
       "    </tr>\n",
       "  </tbody>\n",
       "</table>\n",
       "</div>"
      ],
      "text/plain": [
       "         l0        l1        l2        l3        l4        l5        r0  \\\n",
       "0  0.535408  0.037584  0.119232  0.932200  1.067751  0.058123 -0.653354   \n",
       "1  0.548286  0.060216  0.156784  0.945445  1.073017  0.066887 -0.631147   \n",
       "2  0.554725  0.045731  0.164903  0.947101  1.095585  0.068530 -0.614635   \n",
       "3  0.560406  0.078322  0.168963  0.952896  1.100851  0.077842 -0.608941   \n",
       "4  0.567602  0.071985  0.168963  0.957449  1.088438  0.083867 -0.595275   \n",
       "\n",
       "         r1        r2        r3        r4        r5         x         y  \\\n",
       "0 -0.882907 -1.076118  0.961621  0.884534 -0.144164  1.917147  0.877331   \n",
       "1 -0.836631 -1.058522  0.964983  0.868899 -0.126897  1.724858  0.858034   \n",
       "2 -0.850514 -1.049724  0.986275  0.862645 -0.130495  2.209950  0.512458   \n",
       "3 -0.864397 -1.023331  0.980672  0.869792 -0.115387  2.100695  1.045733   \n",
       "4 -0.864397 -1.033595  0.993746  0.847456 -0.112509  1.956479  0.573854   \n",
       "\n",
       "          z                        time  communication  computer  reading  \\\n",
       "0 -1.581244  2023-11-03 08:55:23.681236            0.0       0.0      1.0   \n",
       "1 -1.541047  2023-11-03 08:55:23.697962            0.0       0.0      1.0   \n",
       "2 -1.592298  2023-11-03 08:55:23.714657            0.0       0.0      1.0   \n",
       "3 -1.544062  2023-11-03 08:55:23.731351            0.0       0.0      1.0   \n",
       "4 -1.680731  2023-11-03 08:55:23.748016            0.0       0.0      1.0   \n",
       "\n",
       "   scrolling  \n",
       "0        0.0  \n",
       "1        0.0  \n",
       "2        0.0  \n",
       "3        0.0  \n",
       "4        0.0  "
      ]
     },
     "execution_count": 37,
     "metadata": {},
     "output_type": "execute_result"
    }
   ],
   "source": [
    "scaler = StandardScaler()\n",
    "df_big_scaled = pd.DataFrame(scaler.fit_transform(df_big[['l0', 'l1', 'l2', 'l3', 'l4', 'l5', 'r0', 'r1', 'r2', 'r3', 'r4', 'r5', 'x', 'y', 'z']]),\n",
    "                             columns=['l0', 'l1', 'l2', 'l3', 'l4', 'l5', 'r0', 'r1', 'r2', 'r3', 'r4', 'r5', 'x', 'y', 'z'])\n",
    "df_big_scaled[\"time\"] = df_big[\"time\"]\n",
    "\n",
    "ohe = OneHotEncoder()\n",
    "ohe.fit(df_big[[\"label\"]])\n",
    "\n",
    "df_big_scaled[[cat for cat in ohe.categories_[0]]] = ohe.transform(df_big[[\"label\"]]).toarray()\n",
    "\n",
    "# for col in df_big_scaled.columns:\n",
    "#     if col not in [\"time\", \"label\"]:\n",
    "#         df_big_scaled[col] = pd.to_numeric(df_big_scaled[col]).astype(np.uint8)\n",
    "\n",
    "df_big_scaled.head()"
   ]
  },
  {
   "cell_type": "code",
   "execution_count": 38,
   "metadata": {},
   "outputs": [
    {
     "data": {
      "text/plain": [
       "(144600, 20)"
      ]
     },
     "execution_count": 38,
     "metadata": {},
     "output_type": "execute_result"
    }
   ],
   "source": [
    "df_big_scaled.shape"
   ]
  },
  {
   "cell_type": "code",
   "execution_count": 39,
   "metadata": {},
   "outputs": [
    {
     "data": {
      "text/html": [
       "<div>\n",
       "<style scoped>\n",
       "    .dataframe tbody tr th:only-of-type {\n",
       "        vertical-align: middle;\n",
       "    }\n",
       "\n",
       "    .dataframe tbody tr th {\n",
       "        vertical-align: top;\n",
       "    }\n",
       "\n",
       "    .dataframe thead th {\n",
       "        text-align: right;\n",
       "    }\n",
       "</style>\n",
       "<table border=\"1\" class=\"dataframe\">\n",
       "  <thead>\n",
       "    <tr style=\"text-align: right;\">\n",
       "      <th></th>\n",
       "      <th>l0</th>\n",
       "      <th>l1</th>\n",
       "      <th>l2</th>\n",
       "      <th>l3</th>\n",
       "      <th>l4</th>\n",
       "      <th>l5</th>\n",
       "      <th>r0</th>\n",
       "      <th>r1</th>\n",
       "      <th>r2</th>\n",
       "      <th>r3</th>\n",
       "      <th>r4</th>\n",
       "      <th>r5</th>\n",
       "      <th>epoch</th>\n",
       "      <th>tick</th>\n",
       "      <th>x</th>\n",
       "      <th>y</th>\n",
       "      <th>z</th>\n",
       "      <th>time</th>\n",
       "      <th>label</th>\n",
       "    </tr>\n",
       "  </thead>\n",
       "  <tbody>\n",
       "    <tr>\n",
       "      <th>6000</th>\n",
       "      <td>18620</td>\n",
       "      <td>6055</td>\n",
       "      <td>9518</td>\n",
       "      <td>15944</td>\n",
       "      <td>17230</td>\n",
       "      <td>17145</td>\n",
       "      <td>20309</td>\n",
       "      <td>5161</td>\n",
       "      <td>7226</td>\n",
       "      <td>14782</td>\n",
       "      <td>13313</td>\n",
       "      <td>7951</td>\n",
       "      <td>1699001723681236</td>\n",
       "      <td>3816428</td>\n",
       "      <td>1.645065</td>\n",
       "      <td>9.703680</td>\n",
       "      <td>-0.318716</td>\n",
       "      <td>2023-11-03 08:55:23.681236</td>\n",
       "      <td>reading</td>\n",
       "    </tr>\n",
       "    <tr>\n",
       "      <th>6001</th>\n",
       "      <td>18654</td>\n",
       "      <td>6080</td>\n",
       "      <td>9555</td>\n",
       "      <td>15976</td>\n",
       "      <td>17244</td>\n",
       "      <td>17161</td>\n",
       "      <td>20348</td>\n",
       "      <td>5191</td>\n",
       "      <td>7238</td>\n",
       "      <td>14791</td>\n",
       "      <td>13278</td>\n",
       "      <td>7975</td>\n",
       "      <td>1699001723697962</td>\n",
       "      <td>3816444</td>\n",
       "      <td>1.537192</td>\n",
       "      <td>9.676711</td>\n",
       "      <td>-0.220649</td>\n",
       "      <td>2023-11-03 08:55:23.697962</td>\n",
       "      <td>reading</td>\n",
       "    </tr>\n",
       "    <tr>\n",
       "      <th>6002</th>\n",
       "      <td>18671</td>\n",
       "      <td>6064</td>\n",
       "      <td>9563</td>\n",
       "      <td>15980</td>\n",
       "      <td>17304</td>\n",
       "      <td>17164</td>\n",
       "      <td>20377</td>\n",
       "      <td>5182</td>\n",
       "      <td>7244</td>\n",
       "      <td>14848</td>\n",
       "      <td>13264</td>\n",
       "      <td>7970</td>\n",
       "      <td>1699001723714657</td>\n",
       "      <td>3816461</td>\n",
       "      <td>1.809326</td>\n",
       "      <td>9.193734</td>\n",
       "      <td>-0.345684</td>\n",
       "      <td>2023-11-03 08:55:23.714657</td>\n",
       "      <td>reading</td>\n",
       "    </tr>\n",
       "    <tr>\n",
       "      <th>6003</th>\n",
       "      <td>18686</td>\n",
       "      <td>6100</td>\n",
       "      <td>9567</td>\n",
       "      <td>15994</td>\n",
       "      <td>17318</td>\n",
       "      <td>17181</td>\n",
       "      <td>20387</td>\n",
       "      <td>5173</td>\n",
       "      <td>7262</td>\n",
       "      <td>14833</td>\n",
       "      <td>13280</td>\n",
       "      <td>7991</td>\n",
       "      <td>1699001723731351</td>\n",
       "      <td>3816478</td>\n",
       "      <td>1.748035</td>\n",
       "      <td>9.939039</td>\n",
       "      <td>-0.228004</td>\n",
       "      <td>2023-11-03 08:55:23.731351</td>\n",
       "      <td>reading</td>\n",
       "    </tr>\n",
       "    <tr>\n",
       "      <th>6004</th>\n",
       "      <td>18705</td>\n",
       "      <td>6093</td>\n",
       "      <td>9567</td>\n",
       "      <td>16005</td>\n",
       "      <td>17285</td>\n",
       "      <td>17192</td>\n",
       "      <td>20411</td>\n",
       "      <td>5173</td>\n",
       "      <td>7255</td>\n",
       "      <td>14868</td>\n",
       "      <td>13230</td>\n",
       "      <td>7995</td>\n",
       "      <td>1699001723748016</td>\n",
       "      <td>3816494</td>\n",
       "      <td>1.667130</td>\n",
       "      <td>9.279542</td>\n",
       "      <td>-0.561430</td>\n",
       "      <td>2023-11-03 08:55:23.748016</td>\n",
       "      <td>reading</td>\n",
       "    </tr>\n",
       "  </tbody>\n",
       "</table>\n",
       "</div>"
      ],
      "text/plain": [
       "         l0    l1    l2     l3     l4     l5     r0    r1    r2     r3     r4  \\\n",
       "6000  18620  6055  9518  15944  17230  17145  20309  5161  7226  14782  13313   \n",
       "6001  18654  6080  9555  15976  17244  17161  20348  5191  7238  14791  13278   \n",
       "6002  18671  6064  9563  15980  17304  17164  20377  5182  7244  14848  13264   \n",
       "6003  18686  6100  9567  15994  17318  17181  20387  5173  7262  14833  13280   \n",
       "6004  18705  6093  9567  16005  17285  17192  20411  5173  7255  14868  13230   \n",
       "\n",
       "        r5             epoch     tick         x         y         z  \\\n",
       "6000  7951  1699001723681236  3816428  1.645065  9.703680 -0.318716   \n",
       "6001  7975  1699001723697962  3816444  1.537192  9.676711 -0.220649   \n",
       "6002  7970  1699001723714657  3816461  1.809326  9.193734 -0.345684   \n",
       "6003  7991  1699001723731351  3816478  1.748035  9.939039 -0.228004   \n",
       "6004  7995  1699001723748016  3816494  1.667130  9.279542 -0.561430   \n",
       "\n",
       "                            time    label  \n",
       "6000  2023-11-03 08:55:23.681236  reading  \n",
       "6001  2023-11-03 08:55:23.697962  reading  \n",
       "6002  2023-11-03 08:55:23.714657  reading  \n",
       "6003  2023-11-03 08:55:23.731351  reading  \n",
       "6004  2023-11-03 08:55:23.748016  reading  "
      ]
     },
     "execution_count": 39,
     "metadata": {},
     "output_type": "execute_result"
    }
   ],
   "source": [
    "df_lugemine_1.head()"
   ]
  },
  {
   "cell_type": "code",
   "execution_count": 40,
   "metadata": {},
   "outputs": [],
   "source": [
    "def scale_small_df(df, scaler, ohe):\n",
    "    df_scaled = pd.DataFrame(scaler.fit_transform(df[['l0', 'l1', 'l2', 'l3', 'l4', 'l5', 'r0', 'r1', 'r2', 'r3', 'r4', 'r5', 'x', 'y', 'z']]),\n",
    "                                columns=['l0', 'l1', 'l2', 'l3', 'l4', 'l5', 'r0', 'r1', 'r2', 'r3', 'r4', 'r5', 'x', 'y', 'z'])\n",
    "\n",
    "    df_scaled[\"time\"] = df[\"time\"].values\n",
    "\n",
    "    df_scaled[[cat for cat in ohe.categories_[0]]] = ohe.transform(df[[\"label\"]]).toarray()\n",
    "\n",
    "    # for col in df_scaled.columns:\n",
    "    #     if col not in [\"time\", \"label\"]:\n",
    "    #         df_scaled[col] = pd.to_numeric(df_scaled[col]).astype(np.uint8)\n",
    "\n",
    "    return df_scaled\n",
    "\n",
    "def scaled2image(df):\n",
    "    data_array = df[['l0', 'l1', 'l2', 'l3', 'l4', 'l5', 'r0', 'r1', 'r2', 'r3', 'r4', 'r5', 'x', 'y', 'z']].to_numpy()\n",
    "    y_array = df[['communication','computer','reading','scrolling']].to_numpy()\n",
    "    # Create the rolling slices\n",
    "    window_size = 60*2 # Size of each slice\n",
    "    rolling_slices = np.array([data_array[i:i+window_size] for i in range(0, len(data_array) - window_size + 1, window_size)])\n",
    "    y_array = np.array([y_array[i+window_size-1] for i in range(0, len(data_array) - window_size + 1, window_size )])\n",
    "    return rolling_slices, y_array\n",
    "\n",
    "dfff = scale_small_df(df_lugemine_1, scaler, ohe)\n",
    "rolling_slices, y_array = scaled2image(dfff)"
   ]
  },
  {
   "cell_type": "markdown",
   "metadata": {},
   "source": [
    "# saving images for later ml"
   ]
  },
  {
   "cell_type": "code",
   "execution_count": 41,
   "metadata": {},
   "outputs": [],
   "source": [
    "all_rolling_slices = []\n",
    "all_y_array = []\n",
    "\n",
    "for df in [df_lugemine_1, df_suhtlus_1, df_scroll_1, df_arvuti_1, df_lugemine_2, df_suhtlus_2, df_scroll_2, df_arvuti_2, df_lugemine_3, df_suhtlus_3, df_scroll_3, df_arvuti_3]:\n",
    "    df = scale_small_df(df, scaler, ohe)\n",
    "    rolling_slices, y_array = scaled2image(df)\n",
    "    all_rolling_slices.extend(rolling_slices)\n",
    "    all_y_array.extend(y_array)\n",
    "\n",
    "all_rolling_slices = np.array(all_rolling_slices)\n",
    "all_y_array = np.array(all_y_array)\n"
   ]
  },
  {
   "cell_type": "code",
   "execution_count": 42,
   "metadata": {},
   "outputs": [],
   "source": [
    "np.save(\"../data/ML/rolling_slices.npy\", all_rolling_slices)\n",
    "np.save(\"../data/ML/y_array.npy\", all_y_array)"
   ]
  },
  {
   "cell_type": "code",
   "execution_count": 43,
   "metadata": {},
   "outputs": [
    {
     "data": {
      "text/plain": [
       "(1199, 120, 15)"
      ]
     },
     "execution_count": 43,
     "metadata": {},
     "output_type": "execute_result"
    }
   ],
   "source": [
    "all_rolling_slices.shape"
   ]
  },
  {
   "cell_type": "code",
   "execution_count": 44,
   "metadata": {},
   "outputs": [
    {
     "data": {
      "text/plain": [
       "<matplotlib.image.AxesImage at 0x2b7ee0f10>"
      ]
     },
     "execution_count": 44,
     "metadata": {},
     "output_type": "execute_result"
    },
    {
     "data": {
      "image/png": "[encoded data removed]",
      "text/plain": [
       "<Figure size 640x480 with 1 Axes>"
      ]
     },
     "metadata": {},
     "output_type": "display_data"
    }
   ],
   "source": [
    "plt.imshow(all_rolling_slices[34], cmap=\"gray\")"
   ]
  },
  {
   "cell_type": "code",
   "execution_count": 45,
   "metadata": {},
   "outputs": [
    {
     "data": {
      "text/plain": [
       "array([[ 0.34237083, -0.23453863, -0.1760055 , ...,  1.24315973,\n",
       "         1.00053062, -1.60218603],\n",
       "       [ 0.3599085 , -0.20993787, -0.13131383, ...,  1.06074457,\n",
       "         0.95057263, -1.54458523],\n",
       "       [ 0.36867734, -0.22568236, -0.12165076, ...,  1.520928  ,\n",
       "         0.05589509, -1.618026  ],\n",
       "       ...,\n",
       "       [ 0.80969828,  0.37949648,  0.35787879, ...,  1.81942646,\n",
       "         2.29940309, -1.42506417],\n",
       "       [ 0.80247688,  0.3578478 ,  0.44122271, ...,  2.17181934,\n",
       "        -1.16123182, -1.50282499],\n",
       "       [ 0.80092944,  0.34407138,  0.35908667, ...,  1.76967671,\n",
       "         1.83162746, -1.29834382]])"
      ]
     },
     "execution_count": 45,
     "metadata": {},
     "output_type": "execute_result"
    }
   ],
   "source": [
    "all_rolling_slices[0]"
   ]
  },
  {
   "cell_type": "markdown",
   "metadata": {},
   "source": [
    "## Data legend\n",
    "0. communication\n",
    "1. computer\n",
    "2. reading\n",
    "3. telo"
   ]
  }
 ],
 "metadata": {
  "kernelspec": {
   "display_name": "junctionenv",
   "language": "python",
   "name": "python3"
  },
  "language_info": {
   "codemirror_mode": {
    "name": "ipython",
    "version": 3
   },
   "file_extension": ".py",
   "mimetype": "text/x-python",
   "name": "python",
   "nbconvert_exporter": "python",
   "pygments_lexer": "ipython3",
   "version": "3.11.5"
  }
 },
 "nbformat": 4,
 "nbformat_minor": 2
}
