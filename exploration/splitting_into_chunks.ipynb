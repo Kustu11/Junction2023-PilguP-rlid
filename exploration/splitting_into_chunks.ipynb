{
 "cells": [
  {
   "cell_type": "code",
   "execution_count": 1,
   "metadata": {},
   "outputs": [],
   "source": [
    "import pandas as pd\n",
    "import numpy as np\n",
    "import matplotlib.pyplot as plt\n",
    "import json\n",
    "import plotly.express as px\n",
    "from sklearn.preprocessing import MinMaxScaler\n",
    "from os import listdir"
   ]
  },
  {
   "cell_type": "code",
   "execution_count": 2,
   "metadata": {},
   "outputs": [],
   "source": [
    "DATA_DIR = \"../data/Junction/indoor_test/\""
   ]
  },
  {
   "cell_type": "code",
   "execution_count": 3,
   "metadata": {},
   "outputs": [
    {
     "ename": "FileNotFoundError",
     "evalue": "[Errno 2] No such file or directory: '../data/Junction/indoor_test/'",
     "output_type": "error",
     "traceback": [
      "\u001b[0;31m---------------------------------------------------------------------------\u001b[0m",
      "\u001b[0;31mFileNotFoundError\u001b[0m                         Traceback (most recent call last)",
      "\u001b[1;32m/Users/kmvoovere/Documents/Isiklikud/Junction23/Junction2023/exploration/splitting_into_chunks.ipynb Cell 3\u001b[0m line \u001b[0;36m2\n\u001b[1;32m      <a href='vscode-notebook-cell:/Users/kmvoovere/Documents/Isiklikud/Junction23/Junction2023/exploration/splitting_into_chunks.ipynb#W2sZmlsZQ%3D%3D?line=0'>1</a>\u001b[0m data_afe \u001b[39m=\u001b[39m []\n\u001b[0;32m----> <a href='vscode-notebook-cell:/Users/kmvoovere/Documents/Isiklikud/Junction23/Junction2023/exploration/splitting_into_chunks.ipynb#W2sZmlsZQ%3D%3D?line=1'>2</a>\u001b[0m \u001b[39mfor\u001b[39;00m file \u001b[39min\u001b[39;00m listdir(DATA_DIR):\n\u001b[1;32m      <a href='vscode-notebook-cell:/Users/kmvoovere/Documents/Isiklikud/Junction23/Junction2023/exploration/splitting_into_chunks.ipynb#W2sZmlsZQ%3D%3D?line=2'>3</a>\u001b[0m     \u001b[39mif\u001b[39;00m \u001b[39m\"\u001b[39m\u001b[39mAFE\u001b[39m\u001b[39m\"\u001b[39m \u001b[39min\u001b[39;00m file:\n\u001b[1;32m      <a href='vscode-notebook-cell:/Users/kmvoovere/Documents/Isiklikud/Junction23/Junction2023/exploration/splitting_into_chunks.ipynb#W2sZmlsZQ%3D%3D?line=3'>4</a>\u001b[0m         \u001b[39mwith\u001b[39;00m \u001b[39mopen\u001b[39m(DATA_DIR \u001b[39m+\u001b[39m file, \u001b[39m\"\u001b[39m\u001b[39mr\u001b[39m\u001b[39m\"\u001b[39m) \u001b[39mas\u001b[39;00m f:\n",
      "\u001b[0;31mFileNotFoundError\u001b[0m: [Errno 2] No such file or directory: '../data/Junction/indoor_test/'"
     ]
    }
   ],
   "source": [
    "data_afe = []\n",
    "for file in listdir(DATA_DIR):\n",
    "    if \"AFE\" in file:\n",
    "        with open(DATA_DIR + file, \"r\") as f:\n",
    "            data_afe += json.loads(f.readlines()[0])\n",
    "            \n",
    "data_imu = []\n",
    "for file in listdir(DATA_DIR):\n",
    "    if \"IMU\" in file:\n",
    "        with open(DATA_DIR + file, \"r\") as f:\n",
    "            data_imu += json.loads(f.readlines()[0])\n",
    "\n",
    "len(data_afe), len(data_imu)"
   ]
  },
  {
   "cell_type": "code",
   "execution_count": null,
   "metadata": {},
   "outputs": [],
   "source": [
    "df_rows = [\"l0\", \"l1\", \"l2\", \"l3\", \"l4\", \"l5\", \"r0\", \"r1\", \"r2\", \"r3\", \"r4\", \"r5\", \"epoch\", \"tick\", \"x\", \"y\", \"z\"]\n",
    "left_temp = []\n",
    "right_temp = []\n",
    "epoch_temp = []\n",
    "tick_temp = []\n",
    "x_temp = []\n",
    "y_temp = []\n",
    "z_temp = []"
   ]
  },
  {
   "cell_type": "code",
   "execution_count": null,
   "metadata": {},
   "outputs": [],
   "source": [
    "counter = 0\n",
    "for data_row in data_afe:\n",
    "    if data_row[\"afe\"][0][\"t\"] == \"L\":\n",
    "        #print(data_row[\"afe\"][0][\"m\"][0][:6])\n",
    "        left_temp.append(data_row[\"afe\"][0][\"m\"][0][:6])\n",
    "        right_temp.append(data_row[\"afe\"][1][\"m\"][0][:6])\n",
    "        # assert data_row[\"afe\"][0][\"i\"][1] \n",
    "        tick_temp.append(data_row[\"afe\"][0][\"i\"][0])\n",
    "        epoch_temp.append(data_row[\"afe\"][0][\"i\"][1])\n",
    "    else:\n",
    "        right_temp.append(data_row[\"afe\"][0][\"m\"][0][:6])\n",
    "        left_temp.append(data_row[\"afe\"][1][\"m\"][0][:6])\n",
    "        tick_temp.append(data_row[\"afe\"][0][\"i\"][0])\n",
    "        epoch_temp.append(data_row[\"afe\"][0][\"i\"][1])\n",
    "    try:\n",
    "        x_temp.append(data_imu[counter][\"v\"][0])\n",
    "        y_temp.append(data_imu[counter][\"v\"][1])\n",
    "        z_temp.append(data_imu[counter][\"v\"][2])\n",
    "    except:\n",
    "        pass\n",
    "    counter += 1\n"
   ]
  },
  {
   "cell_type": "code",
   "execution_count": null,
   "metadata": {},
   "outputs": [
    {
     "name": "stdout",
     "output_type": "stream",
     "text": [
      "15647\n",
      "15647\n",
      "15647\n",
      "15647\n",
      "15647\n",
      "15647\n"
     ]
    }
   ],
   "source": [
    "print(len(left_temp))\n",
    "print(len(right_temp))\n",
    "print(len(tick_temp))\n",
    "print(len(epoch_temp))\n",
    "print(len(x_temp))\n",
    "print(len(y_temp))"
   ]
  },
  {
   "cell_type": "code",
   "execution_count": null,
   "metadata": {},
   "outputs": [
    {
     "data": {
      "text/plain": [
       "[{'i': [6576798, 1699655348868721, 0, 320676],\n",
       "  'm': [[13158, 3264, 3099, 14393, 23249, 16433, 9143, 13733], []],\n",
       "  't': 'L'},\n",
       " {'i': [6576798, 1699655348872780, 0, 320676],\n",
       "  'm': [[11990, 4483, 3943, 10515, 9521, 9451, 13695, 11750], []],\n",
       "  't': 'R'},\n",
       " {},\n",
       " {}]"
      ]
     },
     "execution_count": 40,
     "metadata": {},
     "output_type": "execute_result"
    }
   ],
   "source": [
    "data_row = data_afe[0]\n",
    "data_row[\n",
    "\"afe\"\n",
    "]"
   ]
  },
  {
   "cell_type": "code",
   "execution_count": null,
   "metadata": {},
   "outputs": [
    {
     "data": {
      "text/plain": [
       "['l0',\n",
       " 'l1',\n",
       " 'l2',\n",
       " 'l3',\n",
       " 'l4',\n",
       " 'l5',\n",
       " 'r0',\n",
       " 'r1',\n",
       " 'r2',\n",
       " 'r3',\n",
       " 'r4',\n",
       " 'r5',\n",
       " 'epoch',\n",
       " 'tick',\n",
       " 'x',\n",
       " 'y',\n",
       " 'z']"
      ]
     },
     "execution_count": 41,
     "metadata": {},
     "output_type": "execute_result"
    }
   ],
   "source": [
    "df_rows"
   ]
  },
  {
   "cell_type": "code",
   "execution_count": null,
   "metadata": {},
   "outputs": [],
   "source": [
    "combined = [(left + right + [epoch] + [tick] + [x] + [y] + [z]) for left, right, epoch, tick, x, y, z in zip(left_temp, right_temp, epoch_temp, tick_temp, x_temp, y_temp, z_temp)]\n",
    "\n",
    "df = pd.DataFrame(combined, columns=df_rows)\n",
    "df[\"time\"] = pd.to_datetime(df[\"epoch\"], unit=\"us\")\n",
    "\n",
    "# TODO OLULINE\n",
    "# eemaldame epochid et visualiseerimine oleks lihtsam\n",
    "df = df.drop(columns=[\"epoch\", \"tick\"])\n",
    "scaler = MinMaxScaler()\n",
    "numpy_scaled = scaler.fit_transform(df.drop(columns=[\"time\"], axis=1))\n",
    "df_scaled = pd.DataFrame(numpy_scaled, columns=df.drop(columns=[\"time\"], axis=1).columns)\n",
    "df_scaled[\"time\"] = df[\"time\"]"
   ]
  },
  {
   "cell_type": "code",
   "execution_count": null,
   "metadata": {},
   "outputs": [],
   "source": [
    "# Melting the DataFrame for easier plotting with Plotly\n",
    "df_copy = df_scaled.copy(deep=False)\n",
    "df_copy[\"time\"] = pd.to_datetime((df_copy[\"time\"] - df_copy[\"time\"].min())/1000, unit='us')\n",
    "df_melted = df_copy.melt(id_vars='time', var_name='Variable', value_name='Value')\n",
    "\n",
    "# Creating the plot\n",
    "fig = px.line(df_melted, x='time', y='Value', color='Variable', \n",
    "              title='Interactive Plot of Multiple Series Over Time')\n",
    "\n",
    "# Show the plot\n",
    "fig.show()"
   ]
  },
  {
   "cell_type": "code",
   "execution_count": 4,
   "metadata": {},
   "outputs": [],
   "source": [
    "lugemise_algus_junction = 2300\n",
    "lugemise_lopp_junction =7900\n",
    "\n",
    "suhtluse_algus_junction = 8300\n",
    "suhtluse_lopp_junction = 11500\n",
    "\n",
    "scroll_algus_junction = 12000\n",
    "scroll_lopp_junction = 13500\n",
    "\n",
    "arvuti_algus_junction = 13700 \n",
    "arvuti_lopp_junction = 15400"
   ]
  },
  {
   "cell_type": "code",
   "execution_count": 5,
   "metadata": {},
   "outputs": [],
   "source": [
    "lugemise_algus_kolmas = 7500\n",
    "lugemise_lopp_kolmas = 23500\n",
    "\n",
    "suhtluse_algus_kolmas = 24500\n",
    "suhtluse_lopp_kolmas = 31000\n",
    "\n",
    "scroll_algus_kolmas = 32500\n",
    "scroll_lopp_kolmas = 48800\n",
    "\n",
    "arvuti_algus_kolmas = 51000\n",
    "arvuti_lopp_kolmas = 59000"
   ]
  },
  {
   "cell_type": "code",
   "execution_count": 6,
   "metadata": {},
   "outputs": [],
   "source": [
    "lugemise_algus_teine = 7000\n",
    "lugemise_lopp_teine = 24000\n",
    "\n",
    "suhtluse_algus_teine = 24500\n",
    "suhtluse_lopp_teine = 31500\n",
    "\n",
    "scroll_algus_teine = 32500\n",
    "scroll_lopp_teine = 49000\n",
    "\n",
    "arvuti_algus_teine = 50000\n",
    "arvuti_lopp_teine = 60000"
   ]
  },
  {
   "cell_type": "code",
   "execution_count": 7,
   "metadata": {},
   "outputs": [],
   "source": [
    "lugemise_algus_esimene = 6000\n",
    "lugemise_lopp_esimene = 19400\n",
    "\n",
    "suhtluse_algus_esimene = 20300\n",
    "suhtluse_lopp_esimene = 27500\n",
    "\n",
    "scroll_algus_esimene = 29500\n",
    "scroll_lopp_esimene = 44700\n",
    "\n",
    "arvuti_algus_esimene = 46200\n",
    "arvuti_lopp_esimene = 56700"
   ]
  },
  {
   "cell_type": "code",
   "execution_count": 8,
   "metadata": {},
   "outputs": [],
   "source": [
    "data_dir = \"../data/Junction/indoor_test/\"\n",
    "def file_2_df(data_dir):\n",
    "    data_afe = []\n",
    "    for file in listdir(data_dir):\n",
    "        if \"AFE\" in file:\n",
    "            with open(data_dir + file, \"r\") as f:\n",
    "                data_afe += json.loads(f.readlines()[0])\n",
    "                \n",
    "    data_imu = []\n",
    "    for file in listdir(data_dir):\n",
    "        if \"IMU\" in file:\n",
    "            with open(data_dir + file, \"r\") as f:\n",
    "                data_imu += json.loads(f.readlines()[0])\n",
    "\n",
    "    len(data_afe), len(data_imu)\n",
    "    df_rows = [\"l0\", \"l1\", \"l2\", \"l3\", \"l4\", \"l5\", \"r0\", \"r1\", \"r2\", \"r3\", \"r4\", \"r5\", \"epoch\", \"tick\", \"x\", \"y\", \"z\"]\n",
    "    left_temp = []\n",
    "    right_temp = []\n",
    "    epoch_temp = []\n",
    "    tick_temp = []\n",
    "    x_temp = []\n",
    "    y_temp = []\n",
    "    z_temp = []\n",
    "    counter = 0\n",
    "    for data_row in data_afe:\n",
    "        if data_row[\"afe\"][0][\"t\"] == \"L\":\n",
    "            #print(data_row[\"afe\"][0][\"m\"][0][:6])\n",
    "            left_temp.append(data_row[\"afe\"][0][\"m\"][0][:6])\n",
    "            right_temp.append(data_row[\"afe\"][1][\"m\"][0][:6])\n",
    "            # assert data_row[\"afe\"][0][\"i\"][1] \n",
    "            tick_temp.append(data_row[\"afe\"][0][\"i\"][0])\n",
    "            epoch_temp.append(data_row[\"afe\"][0][\"i\"][1])\n",
    "        else:\n",
    "            right_temp.append(data_row[\"afe\"][0][\"m\"][0][:6])\n",
    "            left_temp.append(data_row[\"afe\"][1][\"m\"][0][:6])\n",
    "            tick_temp.append(data_row[\"afe\"][0][\"i\"][0])\n",
    "            epoch_temp.append(data_row[\"afe\"][0][\"i\"][1])\n",
    "        try:\n",
    "            x_temp.append(data_imu[counter][\"v\"][0])\n",
    "            y_temp.append(data_imu[counter][\"v\"][1])\n",
    "            z_temp.append(data_imu[counter][\"v\"][2])\n",
    "        except:\n",
    "            pass\n",
    "        counter += 1\n",
    "\n",
    "    combined = [(left + right + [epoch] + [tick] + [x] + [y] + [z]) for left, right, epoch, tick, x, y, z in zip(left_temp, right_temp, epoch_temp, tick_temp, x_temp, y_temp, z_temp)]\n",
    "\n",
    "    df = pd.DataFrame(combined, columns=df_rows)\n",
    "    df[\"time\"] = pd.to_datetime(df[\"epoch\"], unit=\"us\")\n",
    "\n",
    "    # TODO OLULINE\n",
    "    # eemaldame epochid et visualiseerimine oleks lihtsam\n",
    "    # df = df.drop(columns=[\"epoch\", \"tick\"])\n",
    "    # scaler = MinMaxScaler()\n",
    "    # numpy_scaled = scaler.fit_transform(df.drop(columns=[\"time\"], axis=1))\n",
    "    # df_scaled = pd.DataFrame(numpy_scaled, columns=df.drop(columns=[\"time\"], axis=1).columns)\n",
    "    # df_scaled[\"time\"] = df[\"time\"]\n",
    "    return df"
   ]
  },
  {
   "cell_type": "code",
   "execution_count": 10,
   "metadata": {},
   "outputs": [
    {
     "name": "stderr",
     "output_type": "stream",
     "text": [
      "/var/folders/tp/dp3r37vn1nxfrdwx5mqtnm5h0000gn/T/ipykernel_9734/4163579748.py:15: SettingWithCopyWarning: \n",
      "A value is trying to be set on a copy of a slice from a DataFrame.\n",
      "Try using .loc[row_indexer,col_indexer] = value instead\n",
      "\n",
      "See the caveats in the documentation: https://pandas.pydata.org/pandas-docs/stable/user_guide/indexing.html#returning-a-view-versus-a-copy\n",
      "  df_lugemine_1[\"label\"] = \"reading\"\n",
      "/var/folders/tp/dp3r37vn1nxfrdwx5mqtnm5h0000gn/T/ipykernel_9734/4163579748.py:18: SettingWithCopyWarning: \n",
      "A value is trying to be set on a copy of a slice from a DataFrame.\n",
      "Try using .loc[row_indexer,col_indexer] = value instead\n",
      "\n",
      "See the caveats in the documentation: https://pandas.pydata.org/pandas-docs/stable/user_guide/indexing.html#returning-a-view-versus-a-copy\n",
      "  df_suhtlus_1[\"label\"] = \"communication\"\n",
      "/var/folders/tp/dp3r37vn1nxfrdwx5mqtnm5h0000gn/T/ipykernel_9734/4163579748.py:21: SettingWithCopyWarning: \n",
      "A value is trying to be set on a copy of a slice from a DataFrame.\n",
      "Try using .loc[row_indexer,col_indexer] = value instead\n",
      "\n",
      "See the caveats in the documentation: https://pandas.pydata.org/pandas-docs/stable/user_guide/indexing.html#returning-a-view-versus-a-copy\n",
      "  df_scroll_1[\"label\"] = \"scrolling\"\n",
      "/var/folders/tp/dp3r37vn1nxfrdwx5mqtnm5h0000gn/T/ipykernel_9734/4163579748.py:24: SettingWithCopyWarning: \n",
      "A value is trying to be set on a copy of a slice from a DataFrame.\n",
      "Try using .loc[row_indexer,col_indexer] = value instead\n",
      "\n",
      "See the caveats in the documentation: https://pandas.pydata.org/pandas-docs/stable/user_guide/indexing.html#returning-a-view-versus-a-copy\n",
      "  df_arvuti_1[\"label\"] = \"computer\"\n"
     ]
    }
   ],
   "source": [
    "df = file_2_df(\"../data/Indoor/Participant_1/\")\n",
    "lugemise_algus_esimene = 6000\n",
    "lugemise_lopp_esimene = 19400\n",
    "\n",
    "suhtluse_algus_esimene = 20300\n",
    "suhtluse_lopp_esimene = 27500\n",
    "\n",
    "scroll_algus_esimene = 29500\n",
    "scroll_lopp_esimene = 44700\n",
    "\n",
    "arvuti_algus_esimene = 46200\n",
    "arvuti_lopp_esimene = 56700\n",
    "\n",
    "df_lugemine_1 = df[lugemise_algus_esimene:lugemise_lopp_esimene]\n",
    "df_lugemine_1[\"label\"] = \"reading\"\n",
    "\n",
    "df_suhtlus_1 = df[suhtluse_algus_esimene:suhtluse_lopp_esimene]\n",
    "df_suhtlus_1[\"label\"] = \"communication\"\n",
    "\n",
    "df_scroll_1 = df[scroll_algus_esimene:scroll_lopp_esimene]  \n",
    "df_scroll_1[\"label\"] = \"scrolling\"\n",
    "\n",
    "df_arvuti_1 = df[arvuti_algus_esimene:arvuti_lopp_esimene]\n",
    "df_arvuti_1[\"label\"] = \"computer\"\n",
    "\n",
    "# save to csv\n",
    "df_lugemine_1.to_csv(\"../data/action_wise_data/reading_1.csv\")\n",
    "df_suhtlus_1.to_csv(\"../data/action_wise_data/communication_1.csv\")\n",
    "df_scroll_1.to_csv(\"../data/action_wise_data/scrolling_1.csv\")\n",
    "df_arvuti_1.to_csv(\"../data/action_wise_data/computer_1.csv\")\n"
   ]
  },
  {
   "cell_type": "code",
   "execution_count": 11,
   "metadata": {},
   "outputs": [
    {
     "name": "stderr",
     "output_type": "stream",
     "text": [
      "/var/folders/tp/dp3r37vn1nxfrdwx5mqtnm5h0000gn/T/ipykernel_9734/3543726044.py:17: SettingWithCopyWarning: \n",
      "A value is trying to be set on a copy of a slice from a DataFrame.\n",
      "Try using .loc[row_indexer,col_indexer] = value instead\n",
      "\n",
      "See the caveats in the documentation: https://pandas.pydata.org/pandas-docs/stable/user_guide/indexing.html#returning-a-view-versus-a-copy\n",
      "  df_lugemine_2[\"label\"] = \"reading\"\n",
      "/var/folders/tp/dp3r37vn1nxfrdwx5mqtnm5h0000gn/T/ipykernel_9734/3543726044.py:20: SettingWithCopyWarning: \n",
      "A value is trying to be set on a copy of a slice from a DataFrame.\n",
      "Try using .loc[row_indexer,col_indexer] = value instead\n",
      "\n",
      "See the caveats in the documentation: https://pandas.pydata.org/pandas-docs/stable/user_guide/indexing.html#returning-a-view-versus-a-copy\n",
      "  df_suhtlus_2[\"label\"] = \"communication\"\n",
      "/var/folders/tp/dp3r37vn1nxfrdwx5mqtnm5h0000gn/T/ipykernel_9734/3543726044.py:23: SettingWithCopyWarning: \n",
      "A value is trying to be set on a copy of a slice from a DataFrame.\n",
      "Try using .loc[row_indexer,col_indexer] = value instead\n",
      "\n",
      "See the caveats in the documentation: https://pandas.pydata.org/pandas-docs/stable/user_guide/indexing.html#returning-a-view-versus-a-copy\n",
      "  df_scroll_2[\"label\"] = \"scrolling\"\n",
      "/var/folders/tp/dp3r37vn1nxfrdwx5mqtnm5h0000gn/T/ipykernel_9734/3543726044.py:26: SettingWithCopyWarning: \n",
      "A value is trying to be set on a copy of a slice from a DataFrame.\n",
      "Try using .loc[row_indexer,col_indexer] = value instead\n",
      "\n",
      "See the caveats in the documentation: https://pandas.pydata.org/pandas-docs/stable/user_guide/indexing.html#returning-a-view-versus-a-copy\n",
      "  df_arvuti_2[\"label\"] = \"computer\"\n"
     ]
    }
   ],
   "source": [
    "lugemise_algus_teine = 7000\n",
    "lugemise_lopp_teine = 24000\n",
    "\n",
    "suhtluse_algus_teine = 24500\n",
    "suhtluse_lopp_teine = 32500\n",
    "\n",
    "scroll_algus_teine = 32500\n",
    "scroll_lopp_teine = 49000\n",
    "\n",
    "arvuti_algus_teine = 50000\n",
    "arvuti_lopp_teine = 60000\n",
    "\n",
    "df = file_2_df(\"../data/Indoor/Participant_2/\")\n",
    "\n",
    "\n",
    "df_lugemine_2 = df[lugemise_algus_teine:lugemise_lopp_teine]\n",
    "df_lugemine_2[\"label\"] = \"reading\"\n",
    "\n",
    "df_suhtlus_2 = df[suhtluse_algus_teine:suhtluse_lopp_teine]\n",
    "df_suhtlus_2[\"label\"] = \"communication\"\n",
    "\n",
    "df_scroll_2 = df[scroll_algus_teine:scroll_lopp_teine]  \n",
    "df_scroll_2[\"label\"] = \"scrolling\"\n",
    "\n",
    "df_arvuti_2 = df[arvuti_algus_teine:arvuti_lopp_teine]\n",
    "df_arvuti_2[\"label\"] = \"computer\"\n",
    "\n",
    "# save to csv\n",
    "df_lugemine_2.to_csv(\"../data/action_wise_data/reading_2.csv\")\n",
    "df_suhtlus_2.to_csv(\"../data/action_wise_data/communication_2.csv\")\n",
    "df_scroll_2.to_csv(\"../data/action_wise_data/scrolling_2.csv\")\n",
    "df_arvuti_2.to_csv(\"../data/action_wise_data/computer_2.csv\")"
   ]
  },
  {
   "cell_type": "code",
   "execution_count": 12,
   "metadata": {},
   "outputs": [
    {
     "name": "stderr",
     "output_type": "stream",
     "text": [
      "/var/folders/tp/dp3r37vn1nxfrdwx5mqtnm5h0000gn/T/ipykernel_9734/1644290859.py:16: SettingWithCopyWarning: \n",
      "A value is trying to be set on a copy of a slice from a DataFrame.\n",
      "Try using .loc[row_indexer,col_indexer] = value instead\n",
      "\n",
      "See the caveats in the documentation: https://pandas.pydata.org/pandas-docs/stable/user_guide/indexing.html#returning-a-view-versus-a-copy\n",
      "  df_lugemine_3[\"label\"] = \"reading\"\n",
      "/var/folders/tp/dp3r37vn1nxfrdwx5mqtnm5h0000gn/T/ipykernel_9734/1644290859.py:19: SettingWithCopyWarning: \n",
      "A value is trying to be set on a copy of a slice from a DataFrame.\n",
      "Try using .loc[row_indexer,col_indexer] = value instead\n",
      "\n",
      "See the caveats in the documentation: https://pandas.pydata.org/pandas-docs/stable/user_guide/indexing.html#returning-a-view-versus-a-copy\n",
      "  df_suhtlus_3[\"label\"] = \"communication\"\n",
      "/var/folders/tp/dp3r37vn1nxfrdwx5mqtnm5h0000gn/T/ipykernel_9734/1644290859.py:22: SettingWithCopyWarning: \n",
      "A value is trying to be set on a copy of a slice from a DataFrame.\n",
      "Try using .loc[row_indexer,col_indexer] = value instead\n",
      "\n",
      "See the caveats in the documentation: https://pandas.pydata.org/pandas-docs/stable/user_guide/indexing.html#returning-a-view-versus-a-copy\n",
      "  df_scroll_3[\"label\"] = \"scrolling\"\n",
      "/var/folders/tp/dp3r37vn1nxfrdwx5mqtnm5h0000gn/T/ipykernel_9734/1644290859.py:25: SettingWithCopyWarning: \n",
      "A value is trying to be set on a copy of a slice from a DataFrame.\n",
      "Try using .loc[row_indexer,col_indexer] = value instead\n",
      "\n",
      "See the caveats in the documentation: https://pandas.pydata.org/pandas-docs/stable/user_guide/indexing.html#returning-a-view-versus-a-copy\n",
      "  df_arvuti_3[\"label\"] = \"computer\"\n"
     ]
    }
   ],
   "source": [
    "lugemise_algus_kolmas = 7500\n",
    "lugemise_lopp_kolmas = 23500\n",
    "\n",
    "suhtluse_algus_kolmas = 24500\n",
    "suhtluse_lopp_kolmas = 31000\n",
    "\n",
    "scroll_algus_kolmas = 32500\n",
    "scroll_lopp_kolmas = 48800\n",
    "\n",
    "arvuti_algus_kolmas = 51000\n",
    "arvuti_lopp_kolmas = 59000\n",
    "\n",
    "df = file_2_df(\"../data/Indoor/Participant_3/\")\n",
    "\n",
    "df_lugemine_3 = df[lugemise_algus_kolmas:lugemise_lopp_kolmas]\n",
    "df_lugemine_3[\"label\"] = \"reading\"\n",
    "\n",
    "df_suhtlus_3 = df[suhtluse_algus_kolmas:suhtluse_lopp_kolmas]\n",
    "df_suhtlus_3[\"label\"] = \"communication\"\n",
    "\n",
    "df_scroll_3 = df[scroll_algus_kolmas:scroll_lopp_kolmas]  \n",
    "df_scroll_3[\"label\"] = \"scrolling\"\n",
    "\n",
    "df_arvuti_3 = df[arvuti_algus_kolmas:arvuti_lopp_kolmas]\n",
    "df_arvuti_3[\"label\"] = \"computer\"\n",
    "\n",
    "# save to csv\n",
    "df_lugemine_3.to_csv(\"../data/action_wise_data/reading_3.csv\")\n",
    "df_suhtlus_3.to_csv(\"../data/action_wise_data/communication_3.csv\")\n",
    "df_scroll_3.to_csv(\"../data/action_wise_data/scrolling_3.csv\")\n",
    "df_arvuti_3.to_csv(\"../data/action_wise_data/computer_3.csv\")"
   ]
  }
 ],
 "metadata": {
  "kernelspec": {
   "display_name": "junctionenv",
   "language": "python",
   "name": "python3"
  },
  "language_info": {
   "codemirror_mode": {
    "name": "ipython",
    "version": 3
   },
   "file_extension": ".py",
   "mimetype": "text/x-python",
   "name": "python",
   "nbconvert_exporter": "python",
   "pygments_lexer": "ipython3",
   "version": "3.11.5"
  }
 },
 "nbformat": 4,
 "nbformat_minor": 2
}
